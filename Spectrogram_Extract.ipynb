{
 "cells": [
  {
   "cell_type": "code",
   "execution_count": 1,
   "metadata": {},
   "outputs": [],
   "source": [
    "import h5py\n",
    "import numpy as np\n",
    "import os\n",
    "from pre_prop_func import play_audio,play_spec,get_spec\n",
    "from sklearn.utils import shuffle"
   ]
  },
  {
   "cell_type": "code",
   "execution_count": 8,
   "metadata": {},
   "outputs": [],
   "source": [
    "dire = \"C:/Users/ADMIN/Desktop/Voice_transformation/P Warden Dataset/\"\n",
    "nos = ['zero','one','two','three','four','five','six','seven','eight','nine']\n",
    "data = []\n",
    "label = []\n",
    "paths = []"
   ]
  },
  {
   "cell_type": "code",
   "execution_count": 9,
   "metadata": {
    "collapsed": true
   },
   "outputs": [
    {
     "name": "stdout",
     "output_type": "stream",
     "text": [
      "zero\n",
      "zero\n",
      "one\n",
      "one\n",
      "two\n",
      "two\n",
      "three\n",
      "three\n",
      "four\n",
      "four\n",
      "five\n",
      "five\n",
      "six\n",
      "six\n",
      "seven\n",
      "seven\n",
      "eight\n",
      "eight\n",
      "nine\n",
      "nine\n"
     ]
    }
   ],
   "source": [
    "for no in nos:\n",
    "    print(no)\n",
    "    for aFile in os.listdir(dire+no):\n",
    "        if aFile[16] == '0':\n",
    "            a_spec = get_spec(dire+no+\"\\\\\"+str(aFile))\n",
    "            if(a_spec.shape == (240,512)):\n",
    "                paths.append(dire+no+\"\\\\\"+str(aFile))\n",
    "                label.append(nos.index(no))\n",
    "    print(no)"
   ]
  },
  {
   "cell_type": "code",
   "execution_count": 10,
   "metadata": {},
   "outputs": [
    {
     "name": "stdout",
     "output_type": "stream",
     "text": [
      "(10791,) (10791,)\n"
     ]
    }
   ],
   "source": [
    "print(np.asarray(paths).shape,np.asarray(label).shape)\n",
    "paths,label = shuffle(paths,label) "
   ]
  },
  {
   "cell_type": "code",
   "execution_count": 17,
   "metadata": {},
   "outputs": [
    {
     "name": "stdout",
     "output_type": "stream",
     "text": [
      "255:done\n",
      "511:done\n",
      "767:done\n",
      "1023:done\n",
      "1279:done\n",
      "1535:done\n",
      "1791:done\n",
      "2047:done\n",
      "2303:done\n",
      "2559:done\n",
      "2815:done\n",
      "3071:done\n",
      "3327:done\n",
      "3583:done\n",
      "3839:done\n",
      "4095:done\n",
      "4351:done\n",
      "4607:done\n",
      "4863:done\n",
      "5119:done\n",
      "5375:done\n",
      "5631:done\n",
      "5887:done\n",
      "6143:done\n",
      "6399:done\n",
      "6655:done\n",
      "6911:done\n",
      "7167:done\n",
      "7423:done\n",
      "7679:done\n",
      "7935:done\n",
      "8191:done\n",
      "8447:done\n",
      "8703:done\n",
      "8959:done\n",
      "9215:done\n",
      "9471:done\n",
      "9727:done\n",
      "9983:done\n",
      "10239:done\n"
     ]
    }
   ],
   "source": [
    "data = []\n",
    "c_labels = []\n",
    "for i in range(10240):\n",
    "    a_spec = get_spec(paths[i])\n",
    "    data.append(a_spec)\n",
    "    c_labels.append(label[i])\n",
    "    if i % 1024 == 1023:\n",
    "        with h5py.File(\"inputs_\"+str(int(i/1024))+\".h5\",\"w\") as f:\n",
    "            f[\"data\"] = np.asarray(data)\n",
    "            f[\"label\"] = np.asarray(c_labels)\n",
    "        del data\n",
    "        del c_labels\n",
    "        data = []\n",
    "        c_labels = []\n",
    "    if i % 256 == 255:\n",
    "        print(str(i)+\":done\")\n",
    "    "
   ]
  },
  {
   "cell_type": "code",
   "execution_count": 26,
   "metadata": {},
   "outputs": [
    {
     "name": "stdout",
     "output_type": "stream",
     "text": [
      "-2.0\n"
     ]
    }
   ],
   "source": [
    "with h5py.File(\"inputs_0.h5\",\"r\") as f:\n",
    "        print(np.amin(np.asarray(f[\"data\"])/(5/2)))"
   ]
  }
 ],
 "metadata": {
  "kernelspec": {
   "display_name": "Python 3",
   "language": "python",
   "name": "python3"
  },
  "language_info": {
   "codemirror_mode": {
    "name": "ipython",
    "version": 3
   },
   "file_extension": ".py",
   "mimetype": "text/x-python",
   "name": "python",
   "nbconvert_exporter": "python",
   "pygments_lexer": "ipython3",
   "version": "3.6.7"
  }
 },
 "nbformat": 4,
 "nbformat_minor": 2
}
